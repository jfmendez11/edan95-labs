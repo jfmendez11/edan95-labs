{
 "cells": [
  {
   "cell_type": "markdown",
   "metadata": {},
   "source": [
    "## Lab 6: Learning an NBC with EM"
   ]
  },
  {
   "cell_type": "markdown",
   "metadata": {},
   "source": [
    "### Datasets load and split"
   ]
  },
  {
   "cell_type": "code",
   "execution_count": 112,
   "metadata": {},
   "outputs": [],
   "source": [
    "import numpy as np\n",
    "from sklearn import metrics, datasets\n",
    "import scipy.stats as st"
   ]
  },
  {
   "cell_type": "code",
   "execution_count": 113,
   "metadata": {},
   "outputs": [
    {
     "name": "stdout",
     "output_type": "stream",
     "text": [
      "Training data: 1257 \n",
      "Training Labels: 1257 \n",
      "Testing Data: 540 \n",
      "Testing Labels: 540 \n",
      "Check: True\n",
      "(1257, 64)\n",
      "(1257,)\n"
     ]
    }
   ],
   "source": [
    "digits = datasets.load_digits()\n",
    "digits_data = digits.data\n",
    "digits_split = int(len(digits_data)*0.7)\n",
    "x_train = digits_data[:digits_split]\n",
    "x_test = digits_data[digits_split:]\n",
    "digits_target = digits.target\n",
    "y_train = digits_target[:digits_split]\n",
    "y_test = digits_target[digits_split:]\n",
    "print('Training data:', len(x_train), '\\nTraining Labels:', len(y_train), '\\nTesting Data:', \n",
    "      len(x_test), '\\nTesting Labels:', len(y_test), '\\nCheck:', \n",
    "      len(digits_data) == len(x_train) + len(x_test))\n",
    "print(x_train.shape)\n",
    "print(y_train.shape)\n",
    "x_train /= 16\n",
    "x_test /= 16"
   ]
  },
  {
   "cell_type": "markdown",
   "metadata": {},
   "source": [
    "### EM Algorithm"
   ]
  },
  {
   "cell_type": "markdown",
   "metadata": {},
   "source": [
    "#### Initialization"
   ]
  },
  {
   "cell_type": "code",
   "execution_count": 114,
   "metadata": {},
   "outputs": [],
   "source": [
    "def initialize():\n",
    "    indexes = np.random.randint(len(digits_data), size=int(len(digits_data)*0.1))\n",
    "    theta = dict()\n",
    "    temp = dict()\n",
    "    for i in indexes:\n",
    "        k = digits_target[i]\n",
    "        pixels = digits_data[i]\n",
    "        if k not in temp:\n",
    "            temp[k] = list()\n",
    "        temp[k].append(pixels)\n",
    "        \n",
    "    for k in temp:\n",
    "        prior = 0.1\n",
    "        values = np.array(temp[k])\n",
    "        means = np.zeros(digits_data.shape[1])\n",
    "        var = np.zeros(digits_data.shape[1])\n",
    "        for i in range(len(values[0])):\n",
    "            means[i] = np.mean(values[:,i])\n",
    "            var[i] = np.var(values[:,i]) + 0.01\n",
    "        theta[k] = np.array([prior, means, var])\n",
    "    return theta\n",
    "\n",
    "theta_init = initialize()\n",
    "classes = 10"
   ]
  },
  {
   "cell_type": "markdown",
   "metadata": {},
   "source": [
    "#### E-Step"
   ]
  },
  {
   "cell_type": "code",
   "execution_count": 115,
   "metadata": {},
   "outputs": [],
   "source": [
    "def E_step(X, theta):\n",
    "    r = np.zeros((X.shape[0],classes)) \n",
    "    for i in range(len(X)):\n",
    "        prob = np.prod([st.norm.pdf(X[i], theta[k][1], np.sqrt(theta[k][2])) for k in range(classes)], axis = 1)\n",
    "        prod = [theta[k][0]*prob[k] for k in range(classes)]\n",
    "        den = np.sum(prod)\n",
    "        r[i,:] = prod/den    \n",
    "    return r"
   ]
  },
  {
   "cell_type": "markdown",
   "metadata": {},
   "source": [
    "#### M-Step"
   ]
  },
  {
   "cell_type": "code",
   "execution_count": 116,
   "metadata": {},
   "outputs": [],
   "source": [
    "def M_step(X, r):\n",
    "    r_k = {k:np.sum(r[:,k]) for k in range(10)}\n",
    "    theta = dict()\n",
    "    for k in r_k:\n",
    "        prior = r_k[k]/len(X)\n",
    "        means = np.sum([r[i][k]*X[i] for i in range(len(X))], axis=0)/r_k[k]\n",
    "        vars_ = np.sum([r[i][k]*(X[i]**2) for i in range(len(X))], axis=0)/r_k[k] - means**2 + 0.01\n",
    "        theta[k] = np.array([prior, means, vars_])\n",
    "    return theta"
   ]
  },
  {
   "cell_type": "markdown",
   "metadata": {},
   "source": [
    "#### Termination"
   ]
  },
  {
   "cell_type": "code",
   "execution_count": 117,
   "metadata": {},
   "outputs": [
    {
     "name": "stdout",
     "output_type": "stream",
     "text": [
      "-1\n",
      "0\n",
      "1\n",
      "2\n",
      "3\n",
      "4\n",
      "5\n",
      "6\n",
      "7\n",
      "8\n",
      "9\n"
     ]
    }
   ],
   "source": [
    "print(-1)\n",
    "e = E_step(x_train, theta_init)\n",
    "m = M_step(x_train, e)\n",
    "for i in range(10):\n",
    "    print(i)\n",
    "    e = E_step(x_train, m)\n",
    "    m = M_step(x_train, e)\n",
    "#print(m)"
   ]
  },
  {
   "cell_type": "code",
   "execution_count": 118,
   "metadata": {},
   "outputs": [
    {
     "name": "stdout",
     "output_type": "stream",
     "text": [
      "0.09864757352874674\n",
      "0.0935270083628778\n",
      "0.1038119285626458\n",
      "0.1476850680954702\n",
      "0.09318825061369254\n",
      "0.07314633224486362\n",
      "0.10023827897905312\n",
      "0.11451624223726403\n",
      "0.10646210189824976\n",
      "0.0687772154771364\n",
      "[0.09864757352874674, 0.0935270083628778, 0.1038119285626458, 0.1476850680954702, 0.09318825061369254, 0.07314633224486362, 0.10023827897905312, 0.11451624223726403, 0.10646210189824976, 0.0687772154771364]\n"
     ]
    }
   ],
   "source": [
    "s = list()\n",
    "for k in m:\n",
    "    s.append(m[k][0])\n",
    "    print( m[k][0])\n",
    "print(s)"
   ]
  },
  {
   "cell_type": "code",
   "execution_count": null,
   "metadata": {},
   "outputs": [],
   "source": []
  },
  {
   "cell_type": "code",
   "execution_count": null,
   "metadata": {},
   "outputs": [],
   "source": []
  },
  {
   "cell_type": "code",
   "execution_count": null,
   "metadata": {},
   "outputs": [],
   "source": []
  }
 ],
 "metadata": {
  "kernelspec": {
   "display_name": "Python 3",
   "language": "python",
   "name": "python3"
  },
  "language_info": {
   "codemirror_mode": {
    "name": "ipython",
    "version": 3
   },
   "file_extension": ".py",
   "mimetype": "text/x-python",
   "name": "python",
   "nbconvert_exporter": "python",
   "pygments_lexer": "ipython3",
   "version": "3.6.9"
  }
 },
 "nbformat": 4,
 "nbformat_minor": 2
}
