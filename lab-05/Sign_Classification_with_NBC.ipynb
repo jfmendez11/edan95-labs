{
 "cells": [
  {
   "cell_type": "markdown",
   "metadata": {},
   "source": [
    "### Lab 05: Sign Classification with NBC"
   ]
  },
  {
   "cell_type": "markdown",
   "metadata": {},
   "source": [
    "#### Classifiers to implement"
   ]
  },
  {
   "cell_type": "markdown",
   "metadata": {},
   "source": [
    "##### Gaussian NB Classifier"
   ]
  },
  {
   "cell_type": "code",
   "execution_count": 5,
   "metadata": {},
   "outputs": [],
   "source": [
    "from PIL import Image\n",
    "import glob\n",
    "import numpy as np\n",
    "from sklearn.model_selection import train_test_split\n",
    "import matplotlib.pyplot as plt\n",
    "from sklearn import metrics, datasets\n",
    "from sklearn.naive_bayes import GaussianNB"
   ]
  },
  {
   "cell_type": "code",
   "execution_count": 6,
   "metadata": {},
   "outputs": [
    {
     "name": "stdout",
     "output_type": "stream",
     "text": [
      "Training data: 1257 Training Labels: 1257 Testing Data: 540 Testing Labels: 540 Check: True\n"
     ]
    }
   ],
   "source": [
    "digits = datasets.load_digits()\n",
    "digits_data = digits.data\n",
    "digits_split = int(len(digits_data)*0.7)\n",
    "digits_x_training = digits_data[:digits_split]\n",
    "digits_x_testing = digits_data[digits_split:]\n",
    "digits_target = digits.target\n",
    "digits_y_training = digits_target[:digits_split]\n",
    "digits_y_testing = digits_target[digits_split:]\n",
    "print('Training data:', len(digits_x_training), 'Training Labels:', len(digits_y_training), 'Testing Data:', \n",
    "      len(digits_x_testing), 'Testing Labels:', len(digits_y_testing), 'Check:', \n",
    "      len(digits_data) == len(digits_x_training) + len(digits_x_testing))"
   ]
  },
  {
   "cell_type": "code",
   "execution_count": null,
   "metadata": {},
   "outputs": [],
   "source": []
  }
 ],
 "metadata": {
  "kernelspec": {
   "display_name": "Python 3",
   "language": "python",
   "name": "python3"
  },
  "language_info": {
   "codemirror_mode": {
    "name": "ipython",
    "version": 3
   },
   "file_extension": ".py",
   "mimetype": "text/x-python",
   "name": "python",
   "nbconvert_exporter": "python",
   "pygments_lexer": "ipython3",
   "version": "3.6.9"
  }
 },
 "nbformat": 4,
 "nbformat_minor": 2
}
