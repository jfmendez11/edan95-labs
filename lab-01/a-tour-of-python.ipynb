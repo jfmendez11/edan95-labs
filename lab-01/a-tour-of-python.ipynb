{
 "cells": [
  {
   "cell_type": "markdown",
   "metadata": {},
   "source": [
    "### The Read, Evaluate and Print Loop"
   ]
  },
  {
   "cell_type": "code",
   "execution_count": 1,
   "metadata": {},
   "outputs": [
    {
     "data": {
      "text/plain": [
       "3"
      ]
     },
     "execution_count": 1,
     "metadata": {},
     "output_type": "execute_result"
    }
   ],
   "source": [
    "a = 1\n",
    "b = 2\n",
    "b + 1"
   ]
  },
  {
   "cell_type": "code",
   "execution_count": 2,
   "metadata": {},
   "outputs": [
    {
     "data": {
      "text/plain": [
       "0.3333333333333333"
      ]
     },
     "execution_count": 2,
     "metadata": {},
     "output_type": "execute_result"
    }
   ],
   "source": [
    "c = a/(b + 1)\n",
    "c"
   ]
  },
  {
   "cell_type": "code",
   "execution_count": 3,
   "metadata": {},
   "outputs": [
    {
     "name": "stdout",
     "output_type": "stream",
     "text": [
      "Result: 0.3333333333333333\n"
     ]
    }
   ],
   "source": [
    "text = 'Result:'\n",
    "print(text, c)"
   ]
  },
  {
   "cell_type": "markdown",
   "metadata": {},
   "source": [
    "### Introductory programs"
   ]
  },
  {
   "cell_type": "code",
   "execution_count": 4,
   "metadata": {},
   "outputs": [
    {
     "name": "stdout",
     "output_type": "stream",
     "text": [
      "1\n",
      "2\n",
      "3\n",
      "4\n",
      "5\n",
      "6\n",
      "Done\n"
     ]
    }
   ],
   "source": [
    "for i in [1,2,3,4,5,6]:\n",
    "    print(i)\n",
    "print('Done')"
   ]
  },
  {
   "cell_type": "code",
   "execution_count": 5,
   "metadata": {},
   "outputs": [
    {
     "name": "stdout",
     "output_type": "stream",
     "text": [
      "Odd 1\n",
      "Even: 2\n",
      "Odd 3\n",
      "Even: 4\n",
      "Odd 5\n",
      "Even: 6\n",
      "Done\n"
     ]
    }
   ],
   "source": [
    "for i in [1,2,3,4,5,6]:\n",
    "    if i%2 == 0:\n",
    "        print('Even:', i)\n",
    "    else:\n",
    "        print('Odd', i)\n",
    "print('Done')"
   ]
  },
  {
   "cell_type": "markdown",
   "metadata": {},
   "source": [
    "### Strings"
   ]
  },
  {
   "cell_type": "code",
   "execution_count": 6,
   "metadata": {},
   "outputs": [
    {
     "name": "stdout",
     "output_type": "stream",
     "text": [
      "Sing, O goddess, the anger of Achilles son of \n",
      "Peleus, that brought countless ills upon the Achaeans.\n",
      "Sing, O goddess, the anger of Achilles son of Peleus, that brought countless ills upon the Achaeans.\n"
     ]
    }
   ],
   "source": [
    "iliad = \"\"\"Sing, O goddess, the anger of Achilles son of \n",
    "Peleus, that brought countless ills upon the Achaeans.\"\"\"\n",
    "print(iliad)\n",
    "iliad2 = 'Sing, O goddess, the anger of Achilles son of \\\n",
    "Peleus, that brought countless ills upon the Achaeans.'\n",
    "print(iliad2)"
   ]
  },
  {
   "cell_type": "markdown",
   "metadata": {},
   "source": [
    "##### String Index"
   ]
  },
  {
   "cell_type": "code",
   "execution_count": 7,
   "metadata": {},
   "outputs": [
    {
     "name": "stdout",
     "output_type": "stream",
     "text": [
      "a b z\n"
     ]
    }
   ],
   "source": [
    "alphabet = 'abcdefghijklmnopqrstuvwxyz'\n",
    "print(alphabet[0], alphabet[1], alphabet[25])"
   ]
  },
  {
   "cell_type": "code",
   "execution_count": 8,
   "metadata": {},
   "outputs": [
    {
     "name": "stdout",
     "output_type": "stream",
     "text": [
      "z y a\n",
      "26\n"
     ]
    }
   ],
   "source": [
    "print(alphabet[-1], alphabet[-2], alphabet[-26])\n",
    "print(len(alphabet))"
   ]
  },
  {
   "cell_type": "code",
   "execution_count": 9,
   "metadata": {},
   "outputs": [
    {
     "name": "stdout",
     "output_type": "stream",
     "text": [
      "Error\n"
     ]
    }
   ],
   "source": [
    "try:\n",
    "    alphabet[0] = b\n",
    "except:\n",
    "    print('Error')"
   ]
  },
  {
   "cell_type": "markdown",
   "metadata": {},
   "source": [
    "##### String Operations and Functions"
   ]
  },
  {
   "cell_type": "code",
   "execution_count": 10,
   "metadata": {},
   "outputs": [
    {
     "name": "stdout",
     "output_type": "stream",
     "text": [
      "abcdef\n",
      "abcabcabc\n"
     ]
    }
   ],
   "source": [
    "print('abc' + 'def')\n",
    "print('abc'*3)"
   ]
  },
  {
   "cell_type": "code",
   "execution_count": 11,
   "metadata": {},
   "outputs": [
    {
     "name": "stdout",
     "output_type": "stream",
     "text": [
      "abcdefghi\n",
      "abc def ghi\n",
      "abc, def, ghi\n"
     ]
    }
   ],
   "source": [
    "print(''.join(['abc', 'def', 'ghi']))\n",
    "print(' '.join(['abc', 'def', 'ghi']))\n",
    "print(', '.join(['abc', 'def', 'ghi']))"
   ]
  },
  {
   "cell_type": "code",
   "execution_count": 12,
   "metadata": {},
   "outputs": [
    {
     "name": "stdout",
     "output_type": "stream",
     "text": [
      "EÉÈÊË\n",
      "eéèêë\n"
     ]
    }
   ],
   "source": [
    "accented_e = 'eéèêë'\n",
    "print(accented_e.upper()) \n",
    "accented_E = 'EÉÈÊË' \n",
    "print(accented_E.lower())"
   ]
  },
  {
   "cell_type": "code",
   "execution_count": 13,
   "metadata": {},
   "outputs": [
    {
     "name": "stdout",
     "output_type": "stream",
     "text": [
      "3\n",
      "-1\n",
      "αβγdefghijklmnopqrstuvwxyz\n"
     ]
    }
   ],
   "source": [
    "print(alphabet.find('def'))\n",
    "print(alphabet.find('é'))\n",
    "print(alphabet.replace('abc', 'αβγ'))"
   ]
  },
  {
   "cell_type": "code",
   "execution_count": 14,
   "metadata": {},
   "outputs": [
    {
     "name": "stdout",
     "output_type": "stream",
     "text": [
      "ioeeaeoieooeeuaououeiuoeaea\n"
     ]
    }
   ],
   "source": [
    "text_vowels = ''\n",
    "for i in iliad:\n",
    "    if i in 'aeiou':\n",
    "        text_vowels += i\n",
    "print(text_vowels)"
   ]
  },
  {
   "cell_type": "markdown",
   "metadata": {},
   "source": [
    "###### Slices"
   ]
  },
  {
   "cell_type": "code",
   "execution_count": 15,
   "metadata": {},
   "outputs": [
    {
     "name": "stdout",
     "output_type": "stream",
     "text": [
      "abc\n",
      "abc\n",
      "def\n",
      "xyz\n",
      "klmnop\n",
      "abcdefghijklmnopqrstuvwxyz\n",
      "abcdefghijklmnopqrstuvwxyz\n",
      "acegikmoqsuwy\n"
     ]
    }
   ],
   "source": [
    "print(alphabet[0:3])\n",
    "print(alphabet[:3])\n",
    "print(alphabet[3:6])\n",
    "print(alphabet[-3:])\n",
    "print(alphabet[10:-10])\n",
    "print(alphabet[:])\n",
    "print(alphabet[:5] + alphabet[5:])\n",
    "print(alphabet[0::2])"
   ]
  },
  {
   "cell_type": "markdown",
   "metadata": {},
   "source": [
    "##### Special Characters"
   ]
  },
  {
   "cell_type": "code",
   "execution_count": 16,
   "metadata": {},
   "outputs": [
    {
     "name": "stdout",
     "output_type": "stream",
     "text": [
      "Pyton's strings\n",
      "Python's strings\n",
      "@\n",
      "@\n",
      "@\n",
      "Œ\n",
      "\n",
      "\\N{COMMERCIAL AT}\n",
      "\\x40\n",
      "\\100\n",
      "\\u0152\n"
     ]
    }
   ],
   "source": [
    "print('Pyton\\'s strings')\n",
    "print(\"Python's strings\")\n",
    "print('\\N{COMMERCIAL AT}')\n",
    "print('\\x40')\n",
    "print('\\100')\n",
    "print('\\u0152')\n",
    "print()\n",
    "print(r'\\N{COMMERCIAL AT}')\n",
    "print(r'\\x40')\n",
    "print(r'\\100')\n",
    "print(r'\\u0152')"
   ]
  },
  {
   "cell_type": "markdown",
   "metadata": {},
   "source": [
    "##### Formatting Strings"
   ]
  },
  {
   "cell_type": "code",
   "execution_count": 17,
   "metadata": {},
   "outputs": [
    {
     "name": "stdout",
     "output_type": "stream",
     "text": [
      "my string is empty\n",
      "my string is empty\n"
     ]
    }
   ],
   "source": [
    "begin = 'my'\n",
    "print('{} string {}'.format(begin, 'is empty'))\n",
    "print('{1} string {0}'.format('is empty', begin))"
   ]
  },
  {
   "cell_type": "markdown",
   "metadata": {},
   "source": [
    "### Data Types"
   ]
  },
  {
   "cell_type": "code",
   "execution_count": 18,
   "metadata": {},
   "outputs": [
    {
     "name": "stdout",
     "output_type": "stream",
     "text": [
      "<class 'str'>\n",
      "<class 'int'>\n",
      "<class 'str'>\n",
      "<class 'float'>\n",
      "<class 'bool'>\n",
      "<class 'bool'>\n",
      "<class 'NoneType'>\n"
     ]
    }
   ],
   "source": [
    "print(type(alphabet))\n",
    "print(type(12))\n",
    "print(type('12'))\n",
    "print(type(12.0))\n",
    "print(type(True))\n",
    "print(type(1 < 2))\n",
    "print(type(None))"
   ]
  },
  {
   "cell_type": "code",
   "execution_count": 19,
   "metadata": {},
   "outputs": [
    {
     "name": "stdout",
     "output_type": "stream",
     "text": [
      "ValueError\n"
     ]
    },
    {
     "data": {
      "text/plain": [
       "False"
      ]
     },
     "execution_count": 19,
     "metadata": {},
     "output_type": "execute_result"
    }
   ],
   "source": [
    "int('12') \n",
    "str(12) \n",
    "try:\n",
    "    int('12.0')\n",
    "    int(alphabet)\n",
    "except:\n",
    "    print('ValueError')\n",
    "int(True) \n",
    "int(False) \n",
    "bool(7) \n",
    "bool(0) \n",
    "bool(None)"
   ]
  },
  {
   "cell_type": "markdown",
   "metadata": {},
   "source": [
    "### Data Structures"
   ]
  },
  {
   "cell_type": "markdown",
   "metadata": {},
   "source": [
    "##### Lists"
   ]
  },
  {
   "cell_type": "code",
   "execution_count": 20,
   "metadata": {},
   "outputs": [],
   "source": [
    "list1 = []\n",
    "list1 = list()\n",
    "list2 = [1, 2, 3]"
   ]
  },
  {
   "cell_type": "code",
   "execution_count": 21,
   "metadata": {},
   "outputs": [
    {
     "name": "stdout",
     "output_type": "stream",
     "text": [
      "2\n",
      "[1, 8, 3]\n",
      "Index error\n"
     ]
    }
   ],
   "source": [
    "print(list2[1])\n",
    "list2[1] = 8\n",
    "print(list2)\n",
    "try:\n",
    "    list2[4]\n",
    "except:\n",
    "    print('Index error')"
   ]
  },
  {
   "cell_type": "code",
   "execution_count": 22,
   "metadata": {},
   "outputs": [
    {
     "name": "stdout",
     "output_type": "stream",
     "text": [
      "[1, 3.14, 'Prolog', 'my string']\n"
     ]
    }
   ],
   "source": [
    "var1 = 3.14\n",
    "var2 = 'my string'\n",
    "list3 = [1, var1, 'Prolog', var2]\n",
    "print(list3)"
   ]
  },
  {
   "cell_type": "code",
   "execution_count": 23,
   "metadata": {},
   "outputs": [
    {
     "name": "stdout",
     "output_type": "stream",
     "text": [
      "[3.14, 'Prolog']\n",
      "[2.72, 'Perl']\n"
     ]
    }
   ],
   "source": [
    "print(list3[1:3])\n",
    "list3[1:3] = [2.72, 'Perl', 'Python']\n",
    "print(list3[1:3])"
   ]
  },
  {
   "cell_type": "code",
   "execution_count": 24,
   "metadata": {},
   "outputs": [
    {
     "name": "stdout",
     "output_type": "stream",
     "text": [
      "[[1, 8, 3], [1, 2.72, 'Perl', 'Python', 'my string']]\n",
      "8\n",
      "Python\n",
      "[1, 8, 3]\n",
      "[1, 8, 3]\n"
     ]
    }
   ],
   "source": [
    "list4 = [list2, list3]\n",
    "print(list4)\n",
    "print(list4[0][1])\n",
    "print(list4[1][3])\n",
    "list5 = list2\n",
    "print(list5)\n",
    "[v1, v2, v3] = list5\n",
    "print([v1, v2, v3])"
   ]
  },
  {
   "cell_type": "markdown",
   "metadata": {},
   "source": [
    "##### Built-in List Operations and Function"
   ]
  },
  {
   "cell_type": "code",
   "execution_count": 25,
   "metadata": {},
   "outputs": [
    {
     "name": "stdout",
     "output_type": "stream",
     "text": [
      "[1, 8, 3]\n",
      "[1, 2.72, 'Perl', 'Python']\n",
      "[1, 2, 3, 'a', 'b']\n",
      "[1, 8, 'Perl', 'Python']\n",
      "[1, 8, 3, 1, 8, 3]\n",
      "[0.0, 0.0, 0.0, 0.0]\n"
     ]
    }
   ],
   "source": [
    "print(list2)\n",
    "print(list3[:-1])\n",
    "print([1, 2, 3] + ['a', 'b'])\n",
    "print(list2[:2] + list3[2:-1])\n",
    "print(list2*2)\n",
    "print([0.0]*4)"
   ]
  },
  {
   "cell_type": "code",
   "execution_count": 26,
   "metadata": {},
   "outputs": [
    {
     "name": "stdout",
     "output_type": "stream",
     "text": [
      "[1, 8, 3]\n",
      "3\n",
      "[1, 2, 3, 4, 5]\n",
      "[1, 2, 3, 4, 5, 6]\n",
      "[1, 2, 3, 4, 5, 6, [7, 8]]\n",
      "[1, 2, 3, 4, 5, 6]\n",
      "[2, 3, 4, 5, 6]\n",
      "['a', 2, 3, 4, 5, 6]\n"
     ]
    }
   ],
   "source": [
    "print(list2)\n",
    "list2[1] = 2\n",
    "print(len(list2))\n",
    "list2.extend([4, 5])\n",
    "print(list2)\n",
    "list2.append(6)\n",
    "print(list2)\n",
    "list2.append([7, 8])\n",
    "print(list2)\n",
    "list2.pop(-1)\n",
    "print(list2)\n",
    "list2.remove(1)\n",
    "print(list2)\n",
    "list2.insert(0, 'a')\n",
    "print(list2)"
   ]
  },
  {
   "cell_type": "code",
   "execution_count": 27,
   "metadata": {},
   "outputs": [
    {
     "name": "stdout",
     "output_type": "stream",
     "text": [
      "Help on class list in module builtins:\n",
      "\n",
      "class list(object)\n",
      " |  list(iterable=(), /)\n",
      " |  \n",
      " |  Built-in mutable sequence.\n",
      " |  \n",
      " |  If no argument is given, the constructor creates a new empty list.\n",
      " |  The argument must be an iterable if specified.\n",
      " |  \n",
      " |  Methods defined here:\n",
      " |  \n",
      " |  __add__(self, value, /)\n",
      " |      Return self+value.\n",
      " |  \n",
      " |  __contains__(self, key, /)\n",
      " |      Return key in self.\n",
      " |  \n",
      " |  __delitem__(self, key, /)\n",
      " |      Delete self[key].\n",
      " |  \n",
      " |  __eq__(self, value, /)\n",
      " |      Return self==value.\n",
      " |  \n",
      " |  __ge__(self, value, /)\n",
      " |      Return self>=value.\n",
      " |  \n",
      " |  __getattribute__(self, name, /)\n",
      " |      Return getattr(self, name).\n",
      " |  \n",
      " |  __getitem__(...)\n",
      " |      x.__getitem__(y) <==> x[y]\n",
      " |  \n",
      " |  __gt__(self, value, /)\n",
      " |      Return self>value.\n",
      " |  \n",
      " |  __iadd__(self, value, /)\n",
      " |      Implement self+=value.\n",
      " |  \n",
      " |  __imul__(self, value, /)\n",
      " |      Implement self*=value.\n",
      " |  \n",
      " |  __init__(self, /, *args, **kwargs)\n",
      " |      Initialize self.  See help(type(self)) for accurate signature.\n",
      " |  \n",
      " |  __iter__(self, /)\n",
      " |      Implement iter(self).\n",
      " |  \n",
      " |  __le__(self, value, /)\n",
      " |      Return self<=value.\n",
      " |  \n",
      " |  __len__(self, /)\n",
      " |      Return len(self).\n",
      " |  \n",
      " |  __lt__(self, value, /)\n",
      " |      Return self<value.\n",
      " |  \n",
      " |  __mul__(self, value, /)\n",
      " |      Return self*value.\n",
      " |  \n",
      " |  __ne__(self, value, /)\n",
      " |      Return self!=value.\n",
      " |  \n",
      " |  __repr__(self, /)\n",
      " |      Return repr(self).\n",
      " |  \n",
      " |  __reversed__(self, /)\n",
      " |      Return a reverse iterator over the list.\n",
      " |  \n",
      " |  __rmul__(self, value, /)\n",
      " |      Return value*self.\n",
      " |  \n",
      " |  __setitem__(self, key, value, /)\n",
      " |      Set self[key] to value.\n",
      " |  \n",
      " |  __sizeof__(self, /)\n",
      " |      Return the size of the list in memory, in bytes.\n",
      " |  \n",
      " |  append(self, object, /)\n",
      " |      Append object to the end of the list.\n",
      " |  \n",
      " |  clear(self, /)\n",
      " |      Remove all items from list.\n",
      " |  \n",
      " |  copy(self, /)\n",
      " |      Return a shallow copy of the list.\n",
      " |  \n",
      " |  count(self, value, /)\n",
      " |      Return number of occurrences of value.\n",
      " |  \n",
      " |  extend(self, iterable, /)\n",
      " |      Extend list by appending elements from the iterable.\n",
      " |  \n",
      " |  index(self, value, start=0, stop=9223372036854775807, /)\n",
      " |      Return first index of value.\n",
      " |      \n",
      " |      Raises ValueError if the value is not present.\n",
      " |  \n",
      " |  insert(self, index, object, /)\n",
      " |      Insert object before index.\n",
      " |  \n",
      " |  pop(self, index=-1, /)\n",
      " |      Remove and return item at index (default last).\n",
      " |      \n",
      " |      Raises IndexError if list is empty or index is out of range.\n",
      " |  \n",
      " |  remove(self, value, /)\n",
      " |      Remove first occurrence of value.\n",
      " |      \n",
      " |      Raises ValueError if the value is not present.\n",
      " |  \n",
      " |  reverse(self, /)\n",
      " |      Reverse *IN PLACE*.\n",
      " |  \n",
      " |  sort(self, /, *, key=None, reverse=False)\n",
      " |      Stable sort *IN PLACE*.\n",
      " |  \n",
      " |  ----------------------------------------------------------------------\n",
      " |  Static methods defined here:\n",
      " |  \n",
      " |  __new__(*args, **kwargs) from builtins.type\n",
      " |      Create and return a new object.  See help(type) for accurate signature.\n",
      " |  \n",
      " |  ----------------------------------------------------------------------\n",
      " |  Data and other attributes defined here:\n",
      " |  \n",
      " |  __hash__ = None\n",
      "\n",
      "Help on method_descriptor:\n",
      "\n",
      "append(self, object, /)\n",
      "    Append object to the end of the list.\n",
      "\n"
     ]
    }
   ],
   "source": [
    "dir(list)\n",
    "dir(str)\n",
    "help(list)\n",
    "help(list.append)"
   ]
  },
  {
   "cell_type": "markdown",
   "metadata": {},
   "source": [
    "##### Tuples"
   ]
  },
  {
   "cell_type": "code",
   "execution_count": 28,
   "metadata": {},
   "outputs": [
    {
     "name": "stdout",
     "output_type": "stream",
     "text": [
      "()\n",
      "()\n",
      "(1, 2, 3, 4)\n",
      "4\n",
      "(2, 3, 4)\n",
      "Type Error: Tuples are immutable\n"
     ]
    }
   ],
   "source": [
    "tuple1 = ()\n",
    "print(tuple1)\n",
    "tuple1 = tuple()\n",
    "print(tuple1)\n",
    "tuple2 = (1, 2, 3, 4)\n",
    "print(tuple2)\n",
    "print(tuple2[3])\n",
    "print(tuple2[1:4])\n",
    "try:\n",
    "    tuple2[3] = 8\n",
    "    print(tuple2)\n",
    "except:\n",
    "    print('Type Error: Tuples are immutable')"
   ]
  },
  {
   "cell_type": "code",
   "execution_count": 29,
   "metadata": {},
   "outputs": [
    {
     "name": "stdout",
     "output_type": "stream",
     "text": [
      "<class 'int'>\n",
      "<class 'tuple'>\n"
     ]
    }
   ],
   "source": [
    "print(type((1)))\n",
    "print(type((1,)))"
   ]
  },
  {
   "cell_type": "code",
   "execution_count": 30,
   "metadata": {},
   "outputs": [
    {
     "name": "stdout",
     "output_type": "stream",
     "text": [
      "('a', 'b', 'c') <class 'tuple'>\n",
      "('a', 2, 3, 4, 5, 6)\n"
     ]
    },
    {
     "data": {
      "text/plain": [
       "[1]"
      ]
     },
     "execution_count": 30,
     "metadata": {},
     "output_type": "execute_result"
    }
   ],
   "source": [
    "list6 = ['a', 'b', 'c']\n",
    "tuple3 = tuple(list6)\n",
    "print(tuple3, type(tuple3))\n",
    "list7 = tuple(list2)\n",
    "print(list7)\n",
    "tuple([1])\n",
    "list((1,))"
   ]
  },
  {
   "cell_type": "code",
   "execution_count": 31,
   "metadata": {},
   "outputs": [
    {
     "name": "stdout",
     "output_type": "stream",
     "text": [
      "((1, 2, 3, 4), ['a', 'b', 'c'])\n",
      "(1, 2, 3, 4)\n",
      "['a', 'b', 'c']\n",
      "3\n",
      "b\n",
      "β\n"
     ]
    }
   ],
   "source": [
    "tuple4 = (tuple2, list6)\n",
    "print(tuple4)\n",
    "print(tuple4[0])\n",
    "print(tuple4[1])\n",
    "print(tuple4[0][2])\n",
    "print(tuple4[1][1])\n",
    "tuple4[1][1] = 'β'\n",
    "print(tuple4[1][1])"
   ]
  },
  {
   "cell_type": "markdown",
   "metadata": {},
   "source": [
    "##### Sets"
   ]
  },
  {
   "cell_type": "code",
   "execution_count": 32,
   "metadata": {},
   "outputs": [
    {
     "name": "stdout",
     "output_type": "stream",
     "text": [
      "set() {'a', 'b', 'c'}\n",
      "{'a', 'd', 'b', 'c'}\n",
      "{'d', 'b', 'c'}\n"
     ]
    }
   ],
   "source": [
    "set1 = set()\n",
    "set2 = {'a', 'b', 'c', 'c', 'b'}\n",
    "print(set1, set2)\n",
    "set2.add('d')\n",
    "print(set2)\n",
    "set2.remove('a')\n",
    "print(set2)"
   ]
  },
  {
   "cell_type": "code",
   "execution_count": 33,
   "metadata": {},
   "outputs": [
    {
     "name": "stdout",
     "output_type": "stream",
     "text": [
      "{'a', 'b', 'c'}\n",
      "{'o', ' ', 'd', 'h', 'a', '\\n', 'f', 'c', 'i', 'p', 'e', 'l', 'u', ',', '.', 'g', 'b', 's', 't', 'r', 'n'}\n"
     ]
    },
    {
     "data": {
      "text/plain": [
       "['\\n',\n",
       " ' ',\n",
       " ',',\n",
       " '.',\n",
       " 'a',\n",
       " 'b',\n",
       " 'c',\n",
       " 'd',\n",
       " 'e',\n",
       " 'f',\n",
       " 'g',\n",
       " 'h',\n",
       " 'i',\n",
       " 'l',\n",
       " 'n',\n",
       " 'o',\n",
       " 'p',\n",
       " 'r',\n",
       " 's',\n",
       " 't',\n",
       " 'u']"
      ]
     },
     "execution_count": 33,
     "metadata": {},
     "output_type": "execute_result"
    }
   ],
   "source": [
    "list8 = ['a', 'b', 'c', 'c', 'b']\n",
    "set3 = set(list8)\n",
    "print(set3)\n",
    "iliad_chars = set(iliad.lower())\n",
    "print(iliad_chars)\n",
    "sorted(iliad_chars)"
   ]
  },
  {
   "cell_type": "code",
   "execution_count": 34,
   "metadata": {},
   "outputs": [
    {
     "name": "stdout",
     "output_type": "stream",
     "text": [
      "{'b', 'c'}\n",
      "{'a', 'c', 'd', 'b'}\n",
      "{'a', 'd'}\n",
      "False\n",
      "{'t', 'r', 'c', 'd', 'a', 'h', 'i', 'p', 'n', 'e', 'l', 's', 'u', 'b', 'g', 'f', 'o'}\n"
     ]
    }
   ],
   "source": [
    "print(set2.intersection(set3))\n",
    "print(set2.union(set3))\n",
    "print(set2.symmetric_difference(set3))\n",
    "print(set2.issubset(set3))\n",
    "print(iliad_chars.intersection(set(alphabet)))"
   ]
  },
  {
   "cell_type": "markdown",
   "metadata": {},
   "source": [
    "##### Dictionaries"
   ]
  },
  {
   "cell_type": "code",
   "execution_count": 35,
   "metadata": {},
   "outputs": [
    {
     "name": "stdout",
     "output_type": "stream",
     "text": [
      "{}\n",
      "{}\n",
      "{'a': 21, 'And': 10, 'the': 18}\n"
     ]
    }
   ],
   "source": [
    "wordcount = {}\n",
    "print(wordcount)\n",
    "wordcount = dict()\n",
    "print(wordcount)\n",
    "wordcount['a'] = 21\n",
    "wordcount['And'] = 10\n",
    "wordcount['the'] = 18\n",
    "print(wordcount)"
   ]
  },
  {
   "cell_type": "code",
   "execution_count": 36,
   "metadata": {},
   "outputs": [
    {
     "name": "stdout",
     "output_type": "stream",
     "text": [
      "21\n",
      "10\n",
      "True\n",
      "False\n"
     ]
    }
   ],
   "source": [
    "print(wordcount['a'])\n",
    "print(wordcount['And'])\n",
    "print('And' in wordcount)\n",
    "print('is' in wordcount)"
   ]
  },
  {
   "cell_type": "code",
   "execution_count": 37,
   "metadata": {},
   "outputs": [
    {
     "name": "stdout",
     "output_type": "stream",
     "text": [
      "Key error\n"
     ]
    }
   ],
   "source": [
    "try:\n",
    "    wordcount['is']\n",
    "except:\n",
    "    print('Key error')"
   ]
  },
  {
   "cell_type": "code",
   "execution_count": 38,
   "metadata": {},
   "outputs": [
    {
     "name": "stdout",
     "output_type": "stream",
     "text": [
      "10\n",
      "0\n",
      "None\n"
     ]
    }
   ],
   "source": [
    "print(wordcount.get('And'))\n",
    "print(wordcount.get('is', 0))\n",
    "print(wordcount.get('is'))"
   ]
  },
  {
   "cell_type": "code",
   "execution_count": 39,
   "metadata": {},
   "outputs": [
    {
     "name": "stdout",
     "output_type": "stream",
     "text": [
      "{('And', 'the'): 3}\n",
      "Type Error\n"
     ]
    }
   ],
   "source": [
    "my_dict = {}\n",
    "my_dict[('And', 'the')] = 3\n",
    "print(my_dict)\n",
    "try:\n",
    "    my_dict[['And', 'the']] = 3\n",
    "except:\n",
    "    print('Type Error')"
   ]
  },
  {
   "cell_type": "code",
   "execution_count": 40,
   "metadata": {},
   "outputs": [
    {
     "name": "stdout",
     "output_type": "stream",
     "text": [
      "dict_keys(['a', 'And', 'the'])\n",
      "dict_values([21, 10, 18])\n",
      "dict_items([('a', 21), ('And', 10), ('the', 18)])\n"
     ]
    }
   ],
   "source": [
    "print(wordcount.keys())\n",
    "print(wordcount.values())\n",
    "print(wordcount.items())"
   ]
  },
  {
   "cell_type": "markdown",
   "metadata": {},
   "source": [
    "###### Counting the Letters of a Text"
   ]
  },
  {
   "cell_type": "code",
   "execution_count": 41,
   "metadata": {},
   "outputs": [
    {
     "name": "stdout",
     "output_type": "stream",
     "text": [
      "{'s': 10, 'i': 3, 'n': 6, 'g': 4, 'o': 8, 'd': 2, 'e': 9, 't': 6, 'h': 6, 'a': 6, 'r': 2, 'f': 2, 'c': 3, 'l': 6, 'p': 2, 'u': 4, 'b': 1}\n"
     ]
    }
   ],
   "source": [
    "letter_count = {}\n",
    "for letter in iliad.lower():\n",
    "    if letter in alphabet:\n",
    "        if letter in letter_count:\n",
    "            letter_count[letter] += 1\n",
    "        else:\n",
    "            letter_count[letter] = 1\n",
    "print(letter_count)"
   ]
  },
  {
   "cell_type": "code",
   "execution_count": 42,
   "metadata": {},
   "outputs": [
    {
     "name": "stdout",
     "output_type": "stream",
     "text": [
      "a 6\n",
      "b 1\n",
      "c 3\n",
      "d 2\n",
      "e 9\n",
      "f 2\n",
      "g 4\n",
      "h 6\n",
      "i 3\n",
      "l 6\n",
      "n 6\n",
      "o 8\n",
      "p 2\n",
      "r 2\n",
      "s 10\n",
      "t 6\n",
      "u 4\n"
     ]
    }
   ],
   "source": [
    "for letter in sorted(letter_count.keys()): \n",
    "    print(letter, letter_count[letter])"
   ]
  },
  {
   "cell_type": "code",
   "execution_count": 43,
   "metadata": {},
   "outputs": [
    {
     "name": "stdout",
     "output_type": "stream",
     "text": [
      "s 10\n",
      "e 9\n",
      "o 8\n",
      "n 6\n",
      "t 6\n",
      "h 6\n",
      "a 6\n",
      "l 6\n",
      "g 4\n",
      "u 4\n",
      "i 3\n",
      "c 3\n",
      "d 2\n",
      "r 2\n",
      "f 2\n",
      "p 2\n",
      "b 1\n"
     ]
    }
   ],
   "source": [
    "for letter in sorted(letter_count.keys(), key=letter_count.get, reverse=True):\n",
    "    print(letter, letter_count[letter])"
   ]
  },
  {
   "cell_type": "markdown",
   "metadata": {},
   "source": [
    "### Control Structures"
   ]
  },
  {
   "cell_type": "markdown",
   "metadata": {},
   "source": [
    "###### Conditionals"
   ]
  },
  {
   "cell_type": "code",
   "execution_count": 44,
   "metadata": {},
   "outputs": [
    {
     "name": "stdout",
     "output_type": "stream",
     "text": [
      "Punctuation\n"
     ]
    }
   ],
   "source": [
    "digits = '0123456789'\n",
    "punctuation = '.,;:?!'\n",
    "\n",
    "char = '.'\n",
    "if char in alphabet:\n",
    "    print('Letter')\n",
    "elif char in digits:\n",
    "    print('Number')\n",
    "elif char in punctuation:\n",
    "    print('Punctuation')\n",
    "else:\n",
    "    print('Other')"
   ]
  },
  {
   "cell_type": "markdown",
   "metadata": {},
   "source": [
    "###### The `for` Loop"
   ]
  },
  {
   "cell_type": "code",
   "execution_count": 45,
   "metadata": {},
   "outputs": [
    {
     "name": "stdout",
     "output_type": "stream",
     "text": [
      "4950\n"
     ]
    }
   ],
   "source": [
    "sum  = 0\n",
    "for i in range(100):\n",
    "    sum += i\n",
    "print(sum)"
   ]
  },
  {
   "cell_type": "code",
   "execution_count": 46,
   "metadata": {},
   "outputs": [
    {
     "name": "stdout",
     "output_type": "stream",
     "text": [
      "0 a\n",
      "1 b\n",
      "2 c\n",
      "3 d\n",
      "4 e\n",
      "5 f\n",
      "6 g\n",
      "7 h\n",
      "8 i\n",
      "9 j\n",
      "10 k\n",
      "11 l\n",
      "12 m\n",
      "13 n\n",
      "14 o\n",
      "15 p\n",
      "16 q\n",
      "17 r\n",
      "18 s\n",
      "19 t\n",
      "20 u\n",
      "21 v\n",
      "22 w\n",
      "23 x\n",
      "24 y\n",
      "25 z\n"
     ]
    }
   ],
   "source": [
    "list10 = list(range(5))\n",
    "for idx, letter in enumerate(alphabet):\n",
    "    print(idx, letter)"
   ]
  },
  {
   "cell_type": "markdown",
   "metadata": {},
   "source": [
    "##### The `while` Loop"
   ]
  },
  {
   "cell_type": "code",
   "execution_count": 47,
   "metadata": {},
   "outputs": [
    {
     "name": "stdout",
     "output_type": "stream",
     "text": [
      "4950\n"
     ]
    }
   ],
   "source": [
    "sum, i = 0, 0\n",
    "while i < 100:\n",
    "    sum += i\n",
    "    i += 1\n",
    "print(sum)"
   ]
  },
  {
   "cell_type": "code",
   "execution_count": 48,
   "metadata": {},
   "outputs": [
    {
     "name": "stdout",
     "output_type": "stream",
     "text": [
      "4950\n"
     ]
    }
   ],
   "source": [
    "sum, i = 0, 0\n",
    "while True:\n",
    "    sum += i\n",
    "    i += 1\n",
    "    if i >= 100:\n",
    "        break\n",
    "print(sum)"
   ]
  },
  {
   "cell_type": "markdown",
   "metadata": {},
   "source": [
    "###### Exceptions"
   ]
  },
  {
   "cell_type": "code",
   "execution_count": 49,
   "metadata": {},
   "outputs": [
    {
     "name": "stdout",
     "output_type": "stream",
     "text": [
      "Cleared the exception!\n"
     ]
    }
   ],
   "source": [
    "try:\n",
    "    int(alphabet)\n",
    "    int('12.0') \n",
    "except:\n",
    "    pass\n",
    "print('Cleared the exception!')"
   ]
  },
  {
   "cell_type": "code",
   "execution_count": 50,
   "metadata": {},
   "outputs": [
    {
     "name": "stdout",
     "output_type": "stream",
     "text": [
      "Caught a value error!\n"
     ]
    }
   ],
   "source": [
    "try:\n",
    "    int(alphabet)\n",
    "    int('12.0') \n",
    "except ValueError:\n",
    "    print('Caught a value error!')\n",
    "except TypeError:\n",
    "    print('Caught a type error!')"
   ]
  },
  {
   "cell_type": "markdown",
   "metadata": {},
   "source": [
    "### Functions"
   ]
  },
  {
   "cell_type": "code",
   "execution_count": 51,
   "metadata": {},
   "outputs": [
    {
     "name": "stdout",
     "output_type": "stream",
     "text": [
      "{'s': 10, 'i': 3, 'n': 6, 'g': 4, 'o': 8, 'd': 2, 'e': 9, 't': 6, 'h': 6, 'a': 6, 'r': 2, 'f': 2, 'c': 3, 'l': 6, 'p': 2, 'u': 4, 'b': 1}\n",
      "{'s': 10, 'i': 3, 'n': 6, 'g': 4, 'o': 8, 'd': 2, 'e': 9, 't': 6, 'h': 6, 'a': 6, 'r': 2, 'f': 2, 'c': 3, 'l': 6, 'p': 2, 'u': 4, 'b': 1}\n"
     ]
    }
   ],
   "source": [
    "def count_letters(text, lc=True): \n",
    "    letter_count = {}\n",
    "    if lc:\n",
    "        text = text.lower() \n",
    "    for letter in text:\n",
    "        if letter.lower() in alphabet: \n",
    "            if letter in letter_count:\n",
    "                letter_count[letter] += 1 \n",
    "            else:\n",
    "                letter_count[letter] = 1\n",
    "    return letter_count\n",
    "\n",
    "print(count_letters(iliad, True))\n",
    "print(count_letters(iliad))"
   ]
  },
  {
   "cell_type": "markdown",
   "metadata": {},
   "source": [
    "### Comprehensions and Generators"
   ]
  },
  {
   "cell_type": "markdown",
   "metadata": {},
   "source": [
    "##### Comprehensions"
   ]
  },
  {
   "cell_type": "code",
   "execution_count": 53,
   "metadata": {},
   "outputs": [
    {
     "name": "stdout",
     "output_type": "stream",
     "text": [
      "[('', 'acress'), ('a', 'cress'), ('ac', 'ress'), ('acr', 'ess'), ('acre', 'ss'), ('acres', 's'), ('acress', '')]\n"
     ]
    }
   ],
   "source": [
    "word = 'acress'\n",
    "splits = [(word[:i], word[i:]) for i in range(len(word) + 1)]\n",
    "print(splits)"
   ]
  },
  {
   "cell_type": "markdown",
   "metadata": {},
   "source": [
    "###### Generators"
   ]
  },
  {
   "cell_type": "code",
   "execution_count": 54,
   "metadata": {},
   "outputs": [
    {
     "name": "stdout",
     "output_type": "stream",
     "text": [
      "('', 'acress')\n",
      "('a', 'cress')\n",
      "('ac', 'ress')\n",
      "('acr', 'ess')\n",
      "('acre', 'ss')\n",
      "('acres', 's')\n",
      "('acress', '')\n"
     ]
    }
   ],
   "source": [
    "splits_generator = ((word[:i], word[i:]) for i in range(len(word) + 1))\n",
    "for i in splits_generator: print(i)"
   ]
  },
  {
   "cell_type": "code",
   "execution_count": 55,
   "metadata": {},
   "outputs": [
    {
     "name": "stdout",
     "output_type": "stream",
     "text": [
      "<generator object splits_generator_function at 0x10c3db850>\n"
     ]
    }
   ],
   "source": [
    "def splits_generator_function(): \n",
    "    for i in range(len(word) + 1): \n",
    "        yield (word[:i], word[i:])\n",
    "splits_generator = splits_generator_function()\n",
    "print(splits_generator)"
   ]
  },
  {
   "cell_type": "markdown",
   "metadata": {},
   "source": [
    "##### Iterators"
   ]
  },
  {
   "cell_type": "code",
   "execution_count": 56,
   "metadata": {},
   "outputs": [
    {
     "name": "stdout",
     "output_type": "stream",
     "text": [
      "26\n",
      "24\n",
      "33\n"
     ]
    }
   ],
   "source": [
    "latin_alphabet = 'abcdefghijklmnopqrstuvwxyz'\n",
    "print(len(latin_alphabet))\n",
    "greek_alphabet = 'αβγδεζηθικλμνξοπρστυφχψω'\n",
    "print(len(greek_alphabet))\n",
    "cyrillic_alphabet = 'абвгдеёжзийклмнопрстуфхцчшщъыьэюя'\n",
    "print(len(cyrillic_alphabet))"
   ]
  },
  {
   "cell_type": "code",
   "execution_count": 57,
   "metadata": {},
   "outputs": [
    {
     "name": "stdout",
     "output_type": "stream",
     "text": [
      "<zip object at 0x10e5feaa0>\n",
      "<zip object at 0x10c2a4320>\n"
     ]
    }
   ],
   "source": [
    "la_gr = zip(latin_alphabet[:3], greek_alphabet[:3]) \n",
    "la_gr_cy = zip(latin_alphabet[:3], greek_alphabet[:3], cyrillic_alphabet[0:3])\n",
    "print(la_gr)\n",
    "print(la_gr_cy)"
   ]
  },
  {
   "cell_type": "code",
   "execution_count": 58,
   "metadata": {},
   "outputs": [
    {
     "name": "stdout",
     "output_type": "stream",
     "text": [
      "('a', 'α')\n",
      "('b', 'β')\n",
      "('c', 'γ')\n"
     ]
    }
   ],
   "source": [
    "print(la_gr.__next__())\n",
    "print(la_gr.__next__())\n",
    "print(la_gr.__next__())"
   ]
  },
  {
   "cell_type": "code",
   "execution_count": 59,
   "metadata": {},
   "outputs": [
    {
     "name": "stdout",
     "output_type": "stream",
     "text": [
      "[('a', 'α', 'а'), ('b', 'β', 'б'), ('c', 'γ', 'в')]\n",
      "[]\n"
     ]
    }
   ],
   "source": [
    "la_gr_cy_list = list(la_gr_cy) \n",
    "print(la_gr_cy_list)\n",
    "la_gr_cy_list = list(la_gr_cy) \n",
    "print(la_gr_cy_list)"
   ]
  },
  {
   "cell_type": "code",
   "execution_count": 60,
   "metadata": {},
   "outputs": [
    {
     "name": "stdout",
     "output_type": "stream",
     "text": [
      "<zip object at 0x10d8ea190>\n"
     ]
    }
   ],
   "source": [
    "la_gr_cy = zip(latin_alphabet[:3], greek_alphabet[:3], cyrillic_alphabet[0:3])\n",
    "print(zip(*la_gr_cy))"
   ]
  },
  {
   "cell_type": "markdown",
   "metadata": {},
   "source": [
    "### Modules"
   ]
  },
  {
   "cell_type": "code",
   "execution_count": 61,
   "metadata": {},
   "outputs": [
    {
     "name": "stdout",
     "output_type": "stream",
     "text": [
      "1.4142135623730951\n",
      "1.0\n",
      "3.0\n"
     ]
    }
   ],
   "source": [
    "import math\n",
    "print(math.sqrt(2))\n",
    "print(math.sin(math.pi/2))\n",
    "print(math.log(8, 2))"
   ]
  },
  {
   "cell_type": "code",
   "execution_count": 62,
   "metadata": {},
   "outputs": [
    {
     "name": "stdout",
     "output_type": "stream",
     "text": [
      "3\n",
      "1.5811388300841898\n"
     ]
    }
   ],
   "source": [
    "import statistics as stats\n",
    "print(stats.mean([1,2,3,4,5]))\n",
    "print(stats.stdev([1,2,3,4,5]))"
   ]
  },
  {
   "cell_type": "markdown",
   "metadata": {},
   "source": [
    "### Memo Functions and Decorators"
   ]
  },
  {
   "cell_type": "markdown",
   "metadata": {},
   "source": [
    "##### Memo functions"
   ]
  },
  {
   "cell_type": "code",
   "execution_count": 63,
   "metadata": {},
   "outputs": [],
   "source": [
    "def fibonacci(n):\n",
    "    if n == 1: \n",
    "        return 1\n",
    "    elif n == 2: \n",
    "        return 1\n",
    "    else:\n",
    "        return fibonacci(n - 1) + fibonacci(n - 2)\n",
    "\n",
    "f_numbers = {}\n",
    "def fibonacci2(n):\n",
    "    if n == 1: \n",
    "        return 1 \n",
    "    elif n == 2: \n",
    "        return 1 \n",
    "    elif n in f_numbers:\n",
    "        return f_numbers[n] \n",
    "    else:\n",
    "        f_numbers[n] = fibonacci2(n - 1) + fibonacci2(n - 2) \n",
    "        return f_numbers[n]"
   ]
  },
  {
   "cell_type": "markdown",
   "metadata": {},
   "source": [
    "##### Decorators"
   ]
  },
  {
   "cell_type": "code",
   "execution_count": 64,
   "metadata": {},
   "outputs": [],
   "source": [
    "def memo_function(f): \n",
    "    cache = {}\n",
    "    def memo(x):\n",
    "        if x in cache:\n",
    "            return cache[x]\n",
    "        else:\n",
    "            cache[x] = f(x)\n",
    "            return cache[x]\n",
    "    return memo\n",
    "\n",
    "fibonacci = memo_function(fibonacci)"
   ]
  },
  {
   "cell_type": "markdown",
   "metadata": {},
   "source": [
    "### Object-Oriented Programming"
   ]
  },
  {
   "cell_type": "markdown",
   "metadata": {},
   "source": [
    "##### Classes and Objects"
   ]
  },
  {
   "cell_type": "code",
   "execution_count": 68,
   "metadata": {},
   "outputs": [],
   "source": [
    "class Text:\n",
    "    \n",
    "    alphabet = 'abcdefghijklmnopqrstuvwxyz'\n",
    "    \n",
    "    def __init__(self, text=None):\n",
    "        self.content = text \n",
    "        self.length = len(text) \n",
    "        self.letter_counts = {}\n",
    "    \n",
    "    \n",
    "    def count_letters(self, lc=True):\n",
    "        letter_counts = {} \n",
    "        if lc:\n",
    "            text = self.content.lower() \n",
    "        else:\n",
    "            text = self.content \n",
    "        for letter in text:\n",
    "            if letter.lower() in self.alphabet: \n",
    "                if letter in letter_counts:\n",
    "                    letter_counts[letter] += 1 \n",
    "                else:\n",
    "                    letter_counts[letter] = 1 \n",
    "        self.letter_counts = letter_counts\n",
    "        return letter_counts"
   ]
  },
  {
   "cell_type": "code",
   "execution_count": 70,
   "metadata": {},
   "outputs": [
    {
     "name": "stdout",
     "output_type": "stream",
     "text": [
      "<class '__main__.Text'>\n",
      "111\n",
      "{'t': 8, 'e': 12, 'l': 3, 'm': 4, 'o': 8, 'u': 2, 's': 4, 'f': 5, 'h': 6, 'a': 9, 'n': 3, 'y': 2, 'i': 2, 'd': 7, 'r': 5, 'w': 3, 'v': 1, 'c': 1, 'k': 1}\n"
     ]
    }
   ],
   "source": [
    "txt = Text(\"Tell me, O Muse, of that many-sided hero who traveled far and wide after he had sacked the famous town of Troy.\")\n",
    "print(type(txt))\n",
    "print(txt.length)\n",
    "txt.my_var = 'a'\n",
    "print(txt.count_letters())"
   ]
  },
  {
   "cell_type": "markdown",
   "metadata": {},
   "source": [
    "##### Subclassing"
   ]
  },
  {
   "cell_type": "code",
   "execution_count": 71,
   "metadata": {},
   "outputs": [],
   "source": [
    "class Word(Text):\n",
    "    def __init__(self, word=None):\n",
    "        super().__init__(word) \n",
    "        self.part_of_speech = None\n",
    "    def annotate(self, part_of_speech): \n",
    "        self.part_of_speech = part_of_speech"
   ]
  },
  {
   "cell_type": "code",
   "execution_count": 72,
   "metadata": {},
   "outputs": [
    {
     "name": "stdout",
     "output_type": "stream",
     "text": [
      "4\n",
      "{'M': 1, 'u': 1, 's': 1, 'e': 1}\n",
      "Noun\n"
     ]
    }
   ],
   "source": [
    "word = Word('Muse')\n",
    "print(word.length)\n",
    "print(word.count_letters(lc=False))\n",
    "word.annotate('Noun')\n",
    "print(word.part_of_speech)"
   ]
  },
  {
   "cell_type": "markdown",
   "metadata": {},
   "source": [
    "### Functional Programming"
   ]
  },
  {
   "cell_type": "markdown",
   "metadata": {},
   "source": [
    "###### `map()`"
   ]
  },
  {
   "cell_type": "code",
   "execution_count": 73,
   "metadata": {},
   "outputs": [
    {
     "name": "stdout",
     "output_type": "stream",
     "text": [
      "[101, 111]\n"
     ]
    }
   ],
   "source": [
    "odyssey = \"Tell me, O Muse, of that many-sided hero who traveled far and wide after he had sacked the famous town of Troy.\"\n",
    "text_lengths = map(len, [iliad, odyssey])\n",
    "print(list(text_lengths))"
   ]
  },
  {
   "cell_type": "markdown",
   "metadata": {},
   "source": [
    "##### `filter()`"
   ]
  },
  {
   "cell_type": "code",
   "execution_count": 74,
   "metadata": {},
   "outputs": [
    {
     "data": {
      "text/plain": [
       "'ioeeaeoieooeeuaououeiuoeaea'"
      ]
     },
     "execution_count": 74,
     "metadata": {},
     "output_type": "execute_result"
    }
   ],
   "source": [
    "lambda x: x in 'aeiou'\n",
    "''.join(filter(lambda x: x in 'aeiou', iliad))"
   ]
  }
 ],
 "metadata": {
  "kernelspec": {
   "display_name": "Python 3",
   "language": "python",
   "name": "python3"
  },
  "language_info": {
   "codemirror_mode": {
    "name": "ipython",
    "version": 3
   },
   "file_extension": ".py",
   "mimetype": "text/x-python",
   "name": "python",
   "nbconvert_exporter": "python",
   "pygments_lexer": "ipython3",
   "version": "3.7.4"
  }
 },
 "nbformat": 4,
 "nbformat_minor": 2
}
